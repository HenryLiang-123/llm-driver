{
 "cells": [
  {
   "cell_type": "code",
   "execution_count": null,
   "metadata": {},
   "outputs": [],
   "source": [
    "from utils.capture_frame import capture_frame\n",
    "from llm_core.multimodal_chat import run_one_round_multimodal_conversation, FunctionCall\n",
    "from prompts.perception_prompt import get_perception_prompt\n",
    "camera = None # camera object from beamngpy\n",
    "\n",
    "color_image_encoded, annotation_image_encoded = capture_frame(camera) \n",
    "\n",
    "\n",
    "\n",
    "perception_prompt = get_perception_prompt(ego_state)\n",
    "response_message = run_one_round_multimodal_conversation(\n",
    "        message=perception_prompt,\n",
    "        temperature=0.0,\n",
    "        base64_image=color_image_encoded,\n",
    "        response_format=FunctionCall\n",
    ") \n",
    "# json in the format of     \n",
    "# {Detections: True / False\n",
    "# Predictions: True / False\n",
    "# Maps: True / False\n",
    "# Occupancy: True / False}\n",
    "\n",
    "\n",
    "\n"
   ]
  }
 ],
 "metadata": {
  "language_info": {
   "name": "python"
  }
 },
 "nbformat": 4,
 "nbformat_minor": 2
}
